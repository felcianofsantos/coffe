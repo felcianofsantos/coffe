{
 "cells": [
  {
   "cell_type": "code",
   "execution_count": 2,
   "metadata": {},
   "outputs": [],
   "source": [
    "df = read.csv('data.csv')"
   ]
  },
  {
   "cell_type": "code",
   "execution_count": 16,
   "metadata": {},
   "outputs": [],
   "source": [
    "colnames(df) = c('id',colnames(df)[2:length(colnames(df))])"
   ]
  },
  {
   "cell_type": "code",
   "execution_count": 29,
   "metadata": {},
   "outputs": [],
   "source": [
    "colnames(df)[7] = 'inter'"
   ]
  },
  {
   "cell_type": "code",
   "execution_count": 31,
   "metadata": {},
   "outputs": [
    {
     "data": {
      "text/html": [
       "<ol class=list-inline>\n",
       "\t<li>'id'</li>\n",
       "\t<li>'Sexo'</li>\n",
       "\t<li>'Average.of.Idade'</li>\n",
       "\t<li>'VLR_TOTAL'</li>\n",
       "\t<li>'QTD'</li>\n",
       "\t<li>'Terapias'</li>\n",
       "\t<li>'inter'</li>\n",
       "\t<li>'Outros'</li>\n",
       "\t<li>'Consultas'</li>\n",
       "\t<li>'Exames'</li>\n",
       "\t<li>'foi.internado'</li>\n",
       "</ol>\n"
      ],
      "text/latex": [
       "\\begin{enumerate*}\n",
       "\\item 'id'\n",
       "\\item 'Sexo'\n",
       "\\item 'Average.of.Idade'\n",
       "\\item 'VLR\\_TOTAL'\n",
       "\\item 'QTD'\n",
       "\\item 'Terapias'\n",
       "\\item 'inter'\n",
       "\\item 'Outros'\n",
       "\\item 'Consultas'\n",
       "\\item 'Exames'\n",
       "\\item 'foi.internado'\n",
       "\\end{enumerate*}\n"
      ],
      "text/markdown": [
       "1. 'id'\n",
       "2. 'Sexo'\n",
       "3. 'Average.of.Idade'\n",
       "4. 'VLR_TOTAL'\n",
       "5. 'QTD'\n",
       "6. 'Terapias'\n",
       "7. 'inter'\n",
       "8. 'Outros'\n",
       "9. 'Consultas'\n",
       "10. 'Exames'\n",
       "11. 'foi.internado'\n",
       "\n",
       "\n"
      ],
      "text/plain": [
       " [1] \"id\"               \"Sexo\"             \"Average.of.Idade\" \"VLR_TOTAL\"       \n",
       " [5] \"QTD\"              \"Terapias\"         \"inter\"            \"Outros\"          \n",
       " [9] \"Consultas\"        \"Exames\"           \"foi.internado\"   "
      ]
     },
     "metadata": {},
     "output_type": "display_data"
    }
   ],
   "source": [
    "colnames(df)"
   ]
  },
  {
   "cell_type": "code",
   "execution_count": 46,
   "metadata": {},
   "outputs": [
    {
     "name": "stderr",
     "output_type": "stream",
     "text": [
      "Warning message:\n",
      "\"glm.fit: fitted probabilities numerically 0 or 1 occurred\""
     ]
    },
    {
     "data": {
      "text/plain": [
       "\n",
       "Call:\n",
       "glm(formula = foi.internado ~ . - id - QTD - inter - Consultas - \n",
       "    Exames - VLR_TOTAL, family = binomial(link = \"logit\"), data = df)\n",
       "\n",
       "Deviance Residuals: \n",
       "    Min       1Q   Median       3Q      Max  \n",
       "-5.5688  -0.4824   0.0015   0.0766   2.8975  \n",
       "\n",
       "Coefficients:\n",
       "                  Estimate Std. Error z value Pr(>|z|)    \n",
       "(Intercept)      -4.439025   0.275759 -16.098  < 2e-16 ***\n",
       "SexoM             6.643209   1.036882   6.407 1.48e-10 ***\n",
       "Average.of.Idade  0.067108   0.006096  11.009  < 2e-16 ***\n",
       "Terapias          0.056004   0.005766   9.713  < 2e-16 ***\n",
       "Outros            0.010081   0.001768   5.703 1.18e-08 ***\n",
       "---\n",
       "Signif. codes:  0 '***' 0.001 '**' 0.01 '*' 0.05 '.' 0.1 ' ' 1\n",
       "\n",
       "(Dispersion parameter for binomial family taken to be 1)\n",
       "\n",
       "    Null deviance: 2265.55  on 1786  degrees of freedom\n",
       "Residual deviance:  804.33  on 1782  degrees of freedom\n",
       "  (3213 observations deleted due to missingness)\n",
       "AIC: 814.33\n",
       "\n",
       "Number of Fisher Scoring iterations: 9\n"
      ]
     },
     "metadata": {},
     "output_type": "display_data"
    }
   ],
   "source": [
    "fit = glm(foi.internado~.-id-QTD-inter-Consultas-Exames-VLR_TOTAL,df,family = binomial(link = 'logit'))\n",
    "summary(fit)"
   ]
  },
  {
   "cell_type": "code",
   "execution_count": 48,
   "metadata": {},
   "outputs": [
    {
     "data": {
      "image/png": "[encoded data removed]",
      "text/plain": [
       "plot without title"
      ]
     },
     "metadata": {},
     "output_type": "display_data"
    }
   ],
   "source": [
    "plot(df)"
   ]
  },
  {
   "cell_type": "code",
   "execution_count": 47,
   "metadata": {},
   "outputs": [
    {
     "data": {
      "text/html": [
       "<dl class=dl-horizontal>\n",
       "\t<dt>(Intercept)</dt>\n",
       "\t\t<dd>0.0118074508044393</dd>\n",
       "\t<dt>SexoM</dt>\n",
       "\t\t<dd>767.554116252698</dd>\n",
       "\t<dt>Average.of.Idade</dt>\n",
       "\t\t<dd>1.06941145604394</dd>\n",
       "\t<dt>Terapias</dt>\n",
       "\t\t<dd>1.05760160990757</dd>\n",
       "\t<dt>Outros</dt>\n",
       "\t\t<dd>1.01013153115144</dd>\n",
       "</dl>\n"
      ],
      "text/latex": [
       "\\begin{description*}\n",
       "\\item[(Intercept)] 0.0118074508044393\n",
       "\\item[SexoM] 767.554116252698\n",
       "\\item[Average.of.Idade] 1.06941145604394\n",
       "\\item[Terapias] 1.05760160990757\n",
       "\\item[Outros] 1.01013153115144\n",
       "\\end{description*}\n"
      ],
      "text/markdown": [
       "(Intercept)\n",
       ":   0.0118074508044393SexoM\n",
       ":   767.554116252698Average.of.Idade\n",
       ":   1.06941145604394Terapias\n",
       ":   1.05760160990757Outros\n",
       ":   1.01013153115144\n",
       "\n"
      ],
      "text/plain": [
       "     (Intercept)            SexoM Average.of.Idade         Terapias \n",
       "      0.01180745     767.55411625       1.06941146       1.05760161 \n",
       "          Outros \n",
       "      1.01013153 "
      ]
     },
     "metadata": {},
     "output_type": "display_data"
    }
   ],
   "source": [
    "exp(fit$coef)"
   ]
  },
  {
   "cell_type": "code",
   "execution_count": 45,
   "metadata": {},
   "outputs": [
    {
     "name": "stderr",
     "output_type": "stream",
     "text": [
      "Warning message:\n",
      "\"glm.fit: fitted probabilities numerically 0 or 1 occurred\"Warning message:\n",
      "\"glm.fit: fitted probabilities numerically 0 or 1 occurred\""
     ]
    },
    {
     "data": {
      "text/html": [
       "<table>\n",
       "<caption>A anova: 6 × 4</caption>\n",
       "<thead>\n",
       "\t<tr><th></th><th scope=col>Df</th><th scope=col>Deviance</th><th scope=col>Resid. Df</th><th scope=col>Resid. Dev</th></tr>\n",
       "\t<tr><th></th><th scope=col>&lt;int&gt;</th><th scope=col>&lt;dbl&gt;</th><th scope=col>&lt;int&gt;</th><th scope=col>&lt;dbl&gt;</th></tr>\n",
       "</thead>\n",
       "<tbody>\n",
       "\t<tr><th scope=row>NULL</th><td>NA</td><td>        NA</td><td>1786</td><td>2265.5475</td></tr>\n",
       "\t<tr><th scope=row>Sexo</th><td> 1</td><td>514.913180</td><td>1785</td><td>1750.6344</td></tr>\n",
       "\t<tr><th scope=row>Average.of.Idade</th><td> 1</td><td>572.583436</td><td>1784</td><td>1178.0509</td></tr>\n",
       "\t<tr><th scope=row>Terapias</th><td> 1</td><td>330.023185</td><td>1783</td><td> 848.0277</td></tr>\n",
       "\t<tr><th scope=row>Outros</th><td> 1</td><td> 43.702606</td><td>1782</td><td> 804.3251</td></tr>\n",
       "\t<tr><th scope=row>Exames</th><td> 1</td><td>  9.397497</td><td>1781</td><td> 794.9276</td></tr>\n",
       "</tbody>\n",
       "</table>\n"
      ],
      "text/latex": [
       "A anova: 6 × 4\n",
       "\\begin{tabular}{r|llll}\n",
       "  & Df & Deviance & Resid. Df & Resid. Dev\\\\\n",
       "  & <int> & <dbl> & <int> & <dbl>\\\\\n",
       "\\hline\n",
       "\tNULL & NA &         NA & 1786 & 2265.5475\\\\\n",
       "\tSexo &  1 & 514.913180 & 1785 & 1750.6344\\\\\n",
       "\tAverage.of.Idade &  1 & 572.583436 & 1784 & 1178.0509\\\\\n",
       "\tTerapias &  1 & 330.023185 & 1783 &  848.0277\\\\\n",
       "\tOutros &  1 &  43.702606 & 1782 &  804.3251\\\\\n",
       "\tExames &  1 &   9.397497 & 1781 &  794.9276\\\\\n",
       "\\end{tabular}\n"
      ],
      "text/markdown": [
       "\n",
       "A anova: 6 × 4\n",
       "\n",
       "| <!--/--> | Df &lt;int&gt; | Deviance &lt;dbl&gt; | Resid. Df &lt;int&gt; | Resid. Dev &lt;dbl&gt; |\n",
       "|---|---|---|---|---|\n",
       "| NULL | NA |         NA | 1786 | 2265.5475 |\n",
       "| Sexo |  1 | 514.913180 | 1785 | 1750.6344 |\n",
       "| Average.of.Idade |  1 | 572.583436 | 1784 | 1178.0509 |\n",
       "| Terapias |  1 | 330.023185 | 1783 |  848.0277 |\n",
       "| Outros |  1 |  43.702606 | 1782 |  804.3251 |\n",
       "| Exames |  1 |   9.397497 | 1781 |  794.9276 |\n",
       "\n"
      ],
      "text/plain": [
       "                 Df Deviance   Resid. Df Resid. Dev\n",
       "NULL             NA         NA 1786      2265.5475 \n",
       "Sexo              1 514.913180 1785      1750.6344 \n",
       "Average.of.Idade  1 572.583436 1784      1178.0509 \n",
       "Terapias          1 330.023185 1783       848.0277 \n",
       "Outros            1  43.702606 1782       804.3251 \n",
       "Exames            1   9.397497 1781       794.9276 "
      ]
     },
     "metadata": {},
     "output_type": "display_data"
    }
   ],
   "source": [
    "anova(fit)"
   ]
  },
  {
   "cell_type": "code",
   "execution_count": null,
   "metadata": {},
   "outputs": [],
   "source": []
  }
 ],
 "metadata": {
  "kernelspec": {
   "display_name": "R",
   "language": "R",
   "name": "ir"
  },
  "language_info": {
   "codemirror_mode": "r",
   "file_extension": ".r",
   "mimetype": "text/x-r-source",
   "name": "R",
   "pygments_lexer": "r",
   "version": "3.6.1"
  }
 },
 "nbformat": 4,
 "nbformat_minor": 4
}
